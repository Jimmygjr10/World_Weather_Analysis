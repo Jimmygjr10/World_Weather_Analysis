{
 "cells": [
  {
   "cell_type": "code",
   "execution_count": 1,
   "id": "73d850bb",
   "metadata": {},
   "outputs": [],
   "source": [
    "# Import the random module.\n",
    "import random"
   ]
  },
  {
   "cell_type": "code",
   "execution_count": 2,
   "id": "2d091023",
   "metadata": {},
   "outputs": [],
   "source": [
    "# random()\tReturns a random float number between 0 and 1\n",
    "# randrange()\tReturns a random number between the given range\n",
    "# randint()\tReturns a random number between the given range\n",
    "# uniform()\tReturns a random float number between two given parameters\n"
   ]
  },
  {
   "cell_type": "markdown",
   "id": "c05f6b63",
   "metadata": {},
   "source": [
    "### The randint() Function\n",
    "\n",
    "#### randint is short for \"random integer.\""
   ]
  },
  {
   "cell_type": "code",
   "execution_count": 4,
   "id": "622f7230",
   "metadata": {},
   "outputs": [
    {
     "data": {
      "text/plain": [
       "57"
      ]
     },
     "execution_count": 4,
     "metadata": {},
     "output_type": "execute_result"
    }
   ],
   "source": [
    "random.randint(-90, 90)"
   ]
  },
  {
   "cell_type": "markdown",
   "id": "51d6c6b4",
   "metadata": {},
   "source": [
    "### The random() Function\n",
    "\n",
    "#### Using the random() function, we can get a single floating-point decimal number between 0 and 1.0."
   ]
  },
  {
   "cell_type": "code",
   "execution_count": 7,
   "id": "8b597eac",
   "metadata": {},
   "outputs": [
    {
     "data": {
      "text/plain": [
       "0.1186839845414479"
      ]
     },
     "execution_count": 7,
     "metadata": {},
     "output_type": "execute_result"
    }
   ],
   "source": [
    "random.random()"
   ]
  },
  {
   "cell_type": "code",
   "execution_count": 9,
   "id": "e80e1685",
   "metadata": {},
   "outputs": [
    {
     "data": {
      "text/plain": [
       "[-26.92818065379582,\n",
       " 32.332893595337616,\n",
       " 28.93182725991827,\n",
       " 16.20884953319852,\n",
       " -36.15856803553298,\n",
       " -59.65032002306085,\n",
       " 29.043161048331427,\n",
       " -25.420683198205946,\n",
       " -72.8155391701262,\n",
       " -55.681752774890754]"
      ]
     },
     "execution_count": 9,
     "metadata": {},
     "output_type": "execute_result"
    }
   ],
   "source": [
    "x = 1\n",
    "latitudes = []\n",
    "while x < 11:\n",
    "    random_lat = random.randint(-90, 89) + random.random()\n",
    "    latitudes.append(random_lat)\n",
    "    x += 1\n",
    "latitudes"
   ]
  },
  {
   "cell_type": "markdown",
   "id": "c71e7158",
   "metadata": {},
   "source": [
    "### The randrange() Function\n",
    "\n",
    "#### For example, add random.randrange(-90, 90, step=1) to a new cell and run the cell. The output is a number between -90 and 90, where the step is the difference between each number in the sequence."
   ]
  },
  {
   "cell_type": "code",
   "execution_count": 10,
   "id": "98541645",
   "metadata": {},
   "outputs": [
    {
     "data": {
      "text/plain": [
       "51"
      ]
     },
     "execution_count": 10,
     "metadata": {},
     "output_type": "execute_result"
    }
   ],
   "source": [
    "random.randrange(-90, 90, step=3)"
   ]
  },
  {
   "cell_type": "markdown",
   "id": "dc086f84",
   "metadata": {},
   "source": [
    "### The uniform() Function\n",
    "\n",
    "#### The uniform() function will allow us to generate a floating-point decimal number between two given numbers inside the parentheses."
   ]
  },
  {
   "cell_type": "code",
   "execution_count": 11,
   "id": "703b62fa",
   "metadata": {},
   "outputs": [
    {
     "data": {
      "text/plain": [
       "-21.09216191226183"
      ]
     },
     "execution_count": 11,
     "metadata": {},
     "output_type": "execute_result"
    }
   ],
   "source": [
    "random.uniform(-90, 90)"
   ]
  },
  {
   "cell_type": "markdown",
   "id": "157f7b9f",
   "metadata": {},
   "source": [
    "           Function\tOutput\tLimitation\n",
    "\n",
    "### randint(-90, 89)\tReturns an integer between the interval, -90 and up to 89.\tWill not generate a floating-point decimal number.\n",
    "### random()\tReturns a floating-point decimal number between 0 and 1.\tWill not generate a whole integer.\n",
    "### randrange(-90, 90, step=1)\tReturns a whole integer between the interval, -90 and 90 where the step is the difference between each number in the sequence.\tWill not generate a floating-point decimal number.\n",
    "### uniform(-90, 90)\tReturns a floating-point decimal number between the interval, -90 and 90.\tWill not generate a whole integer."
   ]
  },
  {
   "cell_type": "markdown",
   "id": "30c53b00",
   "metadata": {},
   "source": [
    "## The NumPy and random Modules"
   ]
  },
  {
   "cell_type": "code",
   "execution_count": 12,
   "id": "3e216fbb",
   "metadata": {},
   "outputs": [],
   "source": [
    "# Import the NumPy module.\n",
    "import numpy as np"
   ]
  },
  {
   "cell_type": "code",
   "execution_count": 13,
   "id": "05f5f506",
   "metadata": {},
   "outputs": [
    {
     "data": {
      "text/plain": [
       "-46.1331058296185"
      ]
     },
     "execution_count": 13,
     "metadata": {},
     "output_type": "execute_result"
    }
   ],
   "source": [
    "np.random.uniform(-90.000, 90.000)"
   ]
  },
  {
   "cell_type": "code",
   "execution_count": 14,
   "id": "2596e690",
   "metadata": {},
   "outputs": [
    {
     "data": {
      "text/plain": [
       "array([ 17.78563734, -31.4306303 , -40.7357352 ,  -5.8912539 ,\n",
       "        52.24955698,  15.19818804, -59.15659763, -79.46854367,\n",
       "         0.16652922, -15.82482452, -89.41139542,  43.18925309,\n",
       "       -67.68318256,  31.88023254, -28.03544434, -45.47509852,\n",
       "       -80.34508549,  65.91423634, -40.61327304,  78.52285382,\n",
       "        25.48203628,  86.64863542,   7.8152819 , -25.34833699,\n",
       "        27.94732392,   2.09147907,  47.98466815,  -0.43013339,\n",
       "       -63.77773297, -61.01662653,   1.59870599,  77.71119385,\n",
       "       -16.16843152, -33.03831086, -15.36240279, -62.65258599,\n",
       "       -62.09806696,  45.12228044, -46.800328  , -11.74221713,\n",
       "        -7.01680928,  11.02788244, -59.29019723,  22.4977599 ,\n",
       "       -70.99173623,  73.67010597,  18.2823402 , -64.4387002 ,\n",
       "        12.71096259,  71.27009511])"
      ]
     },
     "execution_count": 14,
     "metadata": {},
     "output_type": "execute_result"
    }
   ],
   "source": [
    "np.random.uniform(-90.000, 90.000, size=50)"
   ]
  },
  {
   "cell_type": "markdown",
   "id": "ed3784cf",
   "metadata": {},
   "source": [
    "#### To test how long a piece of code or function takes to run, we can import the \"timeit\" module and use the %timeit magic command when we run our code or call the function."
   ]
  },
  {
   "cell_type": "code",
   "execution_count": 15,
   "id": "69ffef66",
   "metadata": {},
   "outputs": [],
   "source": [
    "# Import timeit.\n",
    "import timeit"
   ]
  },
  {
   "cell_type": "code",
   "execution_count": 16,
   "id": "16d6cc3b",
   "metadata": {},
   "outputs": [
    {
     "name": "stdout",
     "output_type": "stream",
     "text": [
      "14.3 µs ± 1.02 µs per loop (mean ± std. dev. of 7 runs, 100000 loops each)\n"
     ]
    }
   ],
   "source": [
    "%timeit np.random.uniform(-90.000, 90.000, size=1500)"
   ]
  },
  {
   "cell_type": "code",
   "execution_count": 17,
   "id": "58e57b0a",
   "metadata": {},
   "outputs": [
    {
     "name": "stdout",
     "output_type": "stream",
     "text": [
      "1.89 ms ± 82.9 µs per loop (mean ± std. dev. of 7 runs, 100 loops each)\n"
     ]
    }
   ],
   "source": [
    "def latitudes(size):\n",
    "    latitudes = []\n",
    "    x = 0\n",
    "    while x < (size):\n",
    "        random_lat = random.randint(-90, 90) + random.random()\n",
    "        latitudes.append(random_lat)\n",
    "        x += 1\n",
    "    return latitudes\n",
    "# Call the function with 1500.\n",
    "%timeit latitudes(1500)"
   ]
  }
 ],
 "metadata": {
  "kernelspec": {
   "display_name": "PythonData",
   "language": "python",
   "name": "pythondata"
  },
  "language_info": {
   "codemirror_mode": {
    "name": "ipython",
    "version": 3
   },
   "file_extension": ".py",
   "mimetype": "text/x-python",
   "name": "python",
   "nbconvert_exporter": "python",
   "pygments_lexer": "ipython3",
   "version": "3.8.11"
  }
 },
 "nbformat": 4,
 "nbformat_minor": 5
}
